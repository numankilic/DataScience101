{
 "cells": [
  {
   "cell_type": "code",
   "execution_count": 1,
   "metadata": {},
   "outputs": [],
   "source": [
    "import pandas as pd\n",
    "import numpy as np"
   ]
  },
  {
   "cell_type": "code",
   "execution_count": 13,
   "metadata": {},
   "outputs": [],
   "source": [
    "survey_19= pd.read_csv(\"survey_results_public.csv\")\n",
    "\n",
    "\n",
    "#okunabilirlik açısından kolay olsun diye 1.projedeki gibi MainBranch kolonunu değiştirdim.\n",
    "survey_19['MainBranch'].replace({'I am a student who is learning to code': 'Student',\n",
    "  'I am not primarily a developer, but I write code sometimes as part of my work': 'Not a Developer',\n",
    "  'I am a developer by profession':  'Developer',\n",
    "  'I code primarily as a hobby':   'Code as hobby',\n",
    "  'I used to be a developer by profession, but no longer am': 'Was a Developer'}, inplace=True)\n",
    "\n",
    "\n",
    "#respondent sütununu index olarak ayarladım.\n",
    "survey_19.set_index('Respondent', inplace = True)\n",
    "\n",
    "\n",
    "#Haftalık çalışma saati (WorkWeekHrs) ya da yıllık maaş (ConvertedComp) sütunlarındaki değerleri, \n",
    "#ilgili sütunun ortalamasının %99'undan daha uzakta veri içeren satırları sildim.\n",
    "survey_19.drop(survey_19[(survey_19['WorkWeekHrs'] > survey_19['WorkWeekHrs'].mean()*1.99)\n",
    "                         |(survey_19['WorkWeekHrs'] < survey_19['WorkWeekHrs'].mean()*0.01)].index, inplace = True)\n",
    "\n",
    "survey_19.drop(survey_19[(survey_19['ConvertedComp'] > survey_19['ConvertedComp'].mean()*1.99)|\n",
    "                         (survey_19['ConvertedComp'] < survey_19['ConvertedComp'].mean()*0.01)].index, inplace = True)\n",
    "\n",
    "\n",
    "\n",
    "survey_19['CompTotal'].loc[survey_19['CompFreq'] == 'Monthly'] *= 12\n",
    "survey_19['CompTotal'].loc[survey_19['CompFreq'] == 'Weekly'] *= 50\n",
    "\n",
    "survey_19.YearsCode.replace({'Less than 1 year': 1, 'More than 50 years':50}, inplace=True)\n",
    "survey_19.YearsCodePro.replace({'Less than 1 year': 1, 'More than 50 years':50}, inplace=True)\n"
   ]
  },
  {
   "cell_type": "code",
   "execution_count": 14,
   "metadata": {},
   "outputs": [
    {
     "name": "stderr",
     "output_type": "stream",
     "text": [
      "C:\\Users\\Numan\\anaconda3\\lib\\site-packages\\ipykernel_launcher.py:3: SettingWithCopyWarning: \n",
      "A value is trying to be set on a copy of a slice from a DataFrame\n",
      "\n",
      "See the caveats in the documentation: https://pandas.pydata.org/pandas-docs/stable/user_guide/indexing.html#returning-a-view-versus-a-copy\n",
      "  This is separate from the ipykernel package so we can avoid doing imports until\n",
      "C:\\Users\\Numan\\anaconda3\\lib\\site-packages\\pandas\\core\\generic.py:5303: SettingWithCopyWarning: \n",
      "A value is trying to be set on a copy of a slice from a DataFrame.\n",
      "Try using .loc[row_indexer,col_indexer] = value instead\n",
      "\n",
      "See the caveats in the documentation: https://pandas.pydata.org/pandas-docs/stable/user_guide/indexing.html#returning-a-view-versus-a-copy\n",
      "  self[name] = value\n"
     ]
    }
   ],
   "source": [
    "usecols = ['Age', 'YearsCode','YearsCodePro','Country','SocialMedia','LanguageWorkedWith','DevType']\n",
    "first_df = survey_19[usecols]\n",
    "first_df.dropna(inplace=True)\n",
    "\n",
    "first_df.YearsCode = first_df.YearsCode.astype(int)\n",
    "first_df.YearsCodePro = first_df.YearsCodePro.astype(int)\n",
    "\n",
    "\n",
    "dummy_df1 = pd.get_dummies(first_df.Country)\n",
    "dummy_df2 = pd.get_dummies(first_df.SocialMedia)\n",
    "dummy_df3 = first_df.LanguageWorkedWith.str.get_dummies(sep=';')\n",
    "dummy_df4 = first_df.DevType.str.get_dummies(sep=';')\n",
    "\n",
    "df5_1 = pd.concat((first_df,dummy_df1,dummy_df2,dummy_df3,dummy_df4), axis=1)"
   ]
  },
  {
   "cell_type": "code",
   "execution_count": 15,
   "metadata": {},
   "outputs": [],
   "source": [
    "df5_1.drop(columns=['Country','SocialMedia','LanguageWorkedWith','DevType'],inplace=True)"
   ]
  },
  {
   "cell_type": "code",
   "execution_count": 16,
   "metadata": {},
   "outputs": [
    {
     "data": {
      "text/plain": [
       "Age                     float64\n",
       "YearsCode                 int32\n",
       "YearsCodePro              int32\n",
       "Afghanistan               uint8\n",
       "Albania                   uint8\n",
       "                         ...   \n",
       "Product manager           int64\n",
       "Scientist                 int64\n",
       "Senior executive/VP       int64\n",
       "Student                   int64\n",
       "System administrator      int64\n",
       "Length: 236, dtype: object"
      ]
     },
     "execution_count": 16,
     "metadata": {},
     "output_type": "execute_result"
    }
   ],
   "source": [
    "df5_1.dtypes"
   ]
  },
  {
   "cell_type": "code",
   "execution_count": 18,
   "metadata": {},
   "outputs": [],
   "source": [
    "#DataFrame i bağımlı ve bağımsız değişken olarak ayıralım\n",
    "X = df5_1. loc[:,df5_1.columns != 'Age']\n",
    "y = df5_1.Age\n",
    "from sklearn.model_selection import train_test_split\n",
    "from sklearn.metrics import mean_squared_error, mean_absolute_error, r2_score\n",
    "\n",
    "X_train, X_test, y_train, y_test = train_test_split(X,y,test_size = 0.3)"
   ]
  },
  {
   "cell_type": "code",
   "execution_count": 21,
   "metadata": {},
   "outputs": [
    {
     "data": {
      "text/plain": [
       "array([ 7.32891512e-01,  7.40758520e-01,  7.39484750e-01,  7.19580924e-01,\n",
       "       -8.71831849e+14, -3.13296726e+14,  7.37923756e-01,  7.25657066e-01,\n",
       "        7.45579342e-01,  7.22837072e-01])"
      ]
     },
     "execution_count": 21,
     "metadata": {},
     "output_type": "execute_result"
    }
   ],
   "source": [
    "from sklearn.linear_model import LinearRegression\n",
    "reg = LinearRegression()\n",
    "from sklearn.model_selection import cross_val_score\n",
    "scores =  cross_val_score(reg,X,y,cv=10, scoring='r2')\n",
    "scores"
   ]
  },
  {
   "cell_type": "code",
   "execution_count": 22,
   "metadata": {},
   "outputs": [
    {
     "name": "stdout",
     "output_type": "stream",
     "text": [
      "MSE score: 17.685074097844915\n",
      "MAE score: 2.8660627699450116\n",
      "R2 score: 0.7427075026293704\n"
     ]
    }
   ],
   "source": [
    "from sklearn.ensemble import RandomForestRegressor\n",
    "reg = RandomForestRegressor()\n",
    "reg.fit(X_train,y_train)\n",
    "y_pred = reg.predict(X_test)\n",
    "mse_score = mean_squared_error(y_test, y_pred)\n",
    "mae_score = mean_absolute_error(y_test, y_pred)\n",
    "r2 = r2_score(y_test, y_pred)\n",
    "print(\"MSE score:\", mse_score)\n",
    "print(\"MAE score:\", mae_score)\n",
    "print(\"R2 score:\", r2)\n"
   ]
  },
  {
   "cell_type": "code",
   "execution_count": null,
   "metadata": {},
   "outputs": [],
   "source": []
  }
 ],
 "metadata": {
  "kernelspec": {
   "display_name": "Python 3",
   "language": "python",
   "name": "python3"
  },
  "language_info": {
   "codemirror_mode": {
    "name": "ipython",
    "version": 3
   },
   "file_extension": ".py",
   "mimetype": "text/x-python",
   "name": "python",
   "nbconvert_exporter": "python",
   "pygments_lexer": "ipython3",
   "version": "3.7.6"
  }
 },
 "nbformat": 4,
 "nbformat_minor": 4
}
